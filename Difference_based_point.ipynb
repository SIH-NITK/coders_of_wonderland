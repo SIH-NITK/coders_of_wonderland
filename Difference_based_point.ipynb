{
 "cells": [
  {
   "cell_type": "code",
   "execution_count": 1,
   "metadata": {},
   "outputs": [],
   "source": [
    "from skimage.measure import compare_ssim\n",
    "import argparse\n",
    "import cv2\n",
    "import numpy as np\n",
    "import scipy"
   ]
  },
  {
   "cell_type": "code",
   "execution_count": 2,
   "metadata": {},
   "outputs": [],
   "source": [
    "def stretch_contrast(img):\n",
    "# img = cv2.imread(\"zelda3_bm20_cm20.jpg\", cv2.IMREAD_COLOR)\n",
    "\n",
    "# normalize float versions\n",
    "    norm_img1 = cv2.normalize(img, None, alpha=0, beta=1, norm_type=cv2.NORM_MINMAX, dtype=cv2.CV_32F)\n",
    "    norm_img2 = cv2.normalize(img, None, alpha=0, beta=1.2, norm_type=cv2.NORM_MINMAX, dtype=cv2.CV_32F)\n",
    "\n",
    "    # scale to uint8\n",
    "    norm_img1 = (255*norm_img1).astype(np.uint8)\n",
    "    norm_img2 = np.clip(norm_img2, 0, 1)\n",
    "    norm_img2 = (255*norm_img2).astype(np.uint8)\n",
    "\n",
    "    return norm_img2\n"
   ]
  },
  {
   "cell_type": "code",
   "execution_count": 3,
   "metadata": {},
   "outputs": [],
   "source": [
    "import glob\n",
    "\n",
    "source_path = \"C:\\\\Users\\\\Mukesh_2\\\\Downloads\\\\Clipped_NDVI\"\n",
    "\n",
    "image_files = [source_path + '/' + f for f in glob.glob('*.tif')]\n",
    "file_names=[f for f in glob.glob('*.tif')]\n",
    "\n",
    "ssim_array=[]\n",
    "\n",
    "common_image=\"awifs_ndvi_201801_15_2_clipped.tif\"\n",
    "file_names.remove(common_image)\n",
    "imageA = cv2.imread(\"awifs_ndvi_201801_15_2_clipped.tif\")\n",
    "imageA = cv2.cvtColor(imageA, cv2.COLOR_BGR2GRAY)\n",
    "imageA = stretch_contrast(imageA)"
   ]
  },
  {
   "cell_type": "code",
   "execution_count": 4,
   "metadata": {},
   "outputs": [
    {
     "name": "stdout",
     "output_type": "stream",
     "text": [
      "C:\\Users\\Mukesh_2\\Downloads\\Clipped_NDVI/awifs_ndvi_201701_15_1_clipped.tif\n",
      "C:\\Users\\Mukesh_2\\Downloads\\Clipped_NDVI/awifs_ndvi_201701_15_2_clipped.tif\n",
      "C:\\Users\\Mukesh_2\\Downloads\\Clipped_NDVI/awifs_ndvi_201702_15_1_clipped.tif\n",
      "C:\\Users\\Mukesh_2\\Downloads\\Clipped_NDVI/awifs_ndvi_201702_15_2_clipped.tif\n",
      "C:\\Users\\Mukesh_2\\Downloads\\Clipped_NDVI/awifs_ndvi_201703_15_1_clipped.tif\n",
      "C:\\Users\\Mukesh_2\\Downloads\\Clipped_NDVI/awifs_ndvi_201703_15_2_clipped.tif\n",
      "C:\\Users\\Mukesh_2\\Downloads\\Clipped_NDVI/awifs_ndvi_201704_15_1_clipped.tif\n",
      "C:\\Users\\Mukesh_2\\Downloads\\Clipped_NDVI/awifs_ndvi_201704_15_2_clipped.tif\n",
      "C:\\Users\\Mukesh_2\\Downloads\\Clipped_NDVI/awifs_ndvi_201705_15_1_clipped.tif\n",
      "C:\\Users\\Mukesh_2\\Downloads\\Clipped_NDVI/awifs_ndvi_201705_15_2_clipped.tif\n",
      "C:\\Users\\Mukesh_2\\Downloads\\Clipped_NDVI/awifs_ndvi_201706_15_1_clipped.tif\n",
      "C:\\Users\\Mukesh_2\\Downloads\\Clipped_NDVI/awifs_ndvi_201706_15_2_clipped.tif\n",
      "C:\\Users\\Mukesh_2\\Downloads\\Clipped_NDVI/awifs_ndvi_201707_15_1_clipped.tif\n",
      "C:\\Users\\Mukesh_2\\Downloads\\Clipped_NDVI/awifs_ndvi_201707_15_2_clipped.tif\n",
      "C:\\Users\\Mukesh_2\\Downloads\\Clipped_NDVI/awifs_ndvi_201708_15_1_clipped.tif\n",
      "C:\\Users\\Mukesh_2\\Downloads\\Clipped_NDVI/awifs_ndvi_201708_15_2_clipped.tif\n",
      "C:\\Users\\Mukesh_2\\Downloads\\Clipped_NDVI/awifs_ndvi_201709_15_1_clipped.tif\n",
      "C:\\Users\\Mukesh_2\\Downloads\\Clipped_NDVI/awifs_ndvi_201709_15_2_clipped.tif\n",
      "C:\\Users\\Mukesh_2\\Downloads\\Clipped_NDVI/awifs_ndvi_201710_15_1_clipped.tif\n",
      "C:\\Users\\Mukesh_2\\Downloads\\Clipped_NDVI/awifs_ndvi_201710_15_2_clipped.tif\n",
      "C:\\Users\\Mukesh_2\\Downloads\\Clipped_NDVI/awifs_ndvi_201711_15_1_clipped.tif\n",
      "C:\\Users\\Mukesh_2\\Downloads\\Clipped_NDVI/awifs_ndvi_201711_15_2_clipped.tif\n",
      "C:\\Users\\Mukesh_2\\Downloads\\Clipped_NDVI/awifs_ndvi_201712_15_1_clipped.tif\n",
      "C:\\Users\\Mukesh_2\\Downloads\\Clipped_NDVI/awifs_ndvi_201712_15_2_clipped.tif\n",
      "C:\\Users\\Mukesh_2\\Downloads\\Clipped_NDVI/awifs_ndvi_201801_15_1_clipped.tif\n",
      "C:\\Users\\Mukesh_2\\Downloads\\Clipped_NDVI/awifs_ndvi_201801_15_2_clipped.tif\n",
      "C:\\Users\\Mukesh_2\\Downloads\\Clipped_NDVI/awifs_ndvi_201802_15_1_clipped.tif\n",
      "C:\\Users\\Mukesh_2\\Downloads\\Clipped_NDVI/awifs_ndvi_201802_15_2_clipped.tif\n",
      "C:\\Users\\Mukesh_2\\Downloads\\Clipped_NDVI/awifs_ndvi_201803_15_1_clipped.tif\n",
      "C:\\Users\\Mukesh_2\\Downloads\\Clipped_NDVI/awifs_ndvi_201803_15_2_clipped.tif\n",
      "C:\\Users\\Mukesh_2\\Downloads\\Clipped_NDVI/awifs_ndvi_201804_15_1_clipped.tif\n",
      "C:\\Users\\Mukesh_2\\Downloads\\Clipped_NDVI/awifs_ndvi_201804_15_2_clipped.tif\n",
      "C:\\Users\\Mukesh_2\\Downloads\\Clipped_NDVI/awifs_ndvi_201805_15_1_clipped.tif\n",
      "C:\\Users\\Mukesh_2\\Downloads\\Clipped_NDVI/awifs_ndvi_201805_15_2_clipped.tif\n",
      "C:\\Users\\Mukesh_2\\Downloads\\Clipped_NDVI/awifs_ndvi_201806_15_1_clipped.tif\n",
      "C:\\Users\\Mukesh_2\\Downloads\\Clipped_NDVI/awifs_ndvi_201806_15_2_clipped.tif\n",
      "C:\\Users\\Mukesh_2\\Downloads\\Clipped_NDVI/awifs_ndvi_201807_15_1_clipped.tif\n",
      "C:\\Users\\Mukesh_2\\Downloads\\Clipped_NDVI/awifs_ndvi_201807_15_2_clipped.tif\n",
      "C:\\Users\\Mukesh_2\\Downloads\\Clipped_NDVI/awifs_ndvi_201808_15_1_clipped.tif\n",
      "C:\\Users\\Mukesh_2\\Downloads\\Clipped_NDVI/awifs_ndvi_201808_15_2_clipped.tif\n",
      "C:\\Users\\Mukesh_2\\Downloads\\Clipped_NDVI/awifs_ndvi_201809_15_1_clipped.tif\n",
      "C:\\Users\\Mukesh_2\\Downloads\\Clipped_NDVI/awifs_ndvi_201809_15_2_clipped.tif\n",
      "C:\\Users\\Mukesh_2\\Downloads\\Clipped_NDVI/awifs_ndvi_201810_15_1_clipped.tif\n",
      "C:\\Users\\Mukesh_2\\Downloads\\Clipped_NDVI/awifs_ndvi_201810_15_2_clipped.tif\n",
      "C:\\Users\\Mukesh_2\\Downloads\\Clipped_NDVI/awifs_ndvi_201811_15_1_clipped.tif\n",
      "C:\\Users\\Mukesh_2\\Downloads\\Clipped_NDVI/awifs_ndvi_201811_15_2_clipped.tif\n",
      "C:\\Users\\Mukesh_2\\Downloads\\Clipped_NDVI/awifs_ndvi_201812_15_1_clipped.tif\n",
      "C:\\Users\\Mukesh_2\\Downloads\\Clipped_NDVI/awifs_ndvi_201812_15_2_clipped.tif\n"
     ]
    }
   ],
   "source": [
    "for image in image_files:\n",
    "    print(image)\n",
    "    image_name=image.split('/')[-1]\n",
    "    \n",
    "    if(common_image==image_name):\n",
    "        continue\n",
    "    \n",
    "    imageB = cv2.imread(image)\n",
    "    #imageB=imageB.reshape((imageB.shape[1],imageB.shape[0],imageB.shape[2]))\n",
    "    imageB = cv2.cvtColor(imageB, cv2.COLOR_BGR2GRAY)\n",
    "    # clahe = cv2.createCLAHE(clipLimit=2.0, tileGridSize=(8,8))\n",
    "    imageB = stretch_contrast(imageB)\n",
    "    # convert the images to grayscale\n",
    "    # grayA = cv2.cvtColor(imageA, cv2.COLOR_BGR2GRAY)\n",
    "    # grayB = cv2.cvtColor(imageB, cv2.COLOR_BGR2GRAY)\n",
    "\n",
    "    (score, diff) = compare_ssim(imageA, imageB, full=True)\n",
    "    ssim_array.append(1-score)"
   ]
  },
  {
   "cell_type": "code",
   "execution_count": 5,
   "metadata": {},
   "outputs": [
    {
     "name": "stdout",
     "output_type": "stream",
     "text": [
      "0.4899218548104832 C:\\Users\\Mukesh_2\\Downloads\\Clipped_NDVI/awifs_ndvi_201701_15_1_clipped.tif\n",
      "0.42353297697067616 C:\\Users\\Mukesh_2\\Downloads\\Clipped_NDVI/awifs_ndvi_201701_15_2_clipped.tif\n",
      "0.48167934208705865 C:\\Users\\Mukesh_2\\Downloads\\Clipped_NDVI/awifs_ndvi_201702_15_1_clipped.tif\n",
      "0.5363789338848113 C:\\Users\\Mukesh_2\\Downloads\\Clipped_NDVI/awifs_ndvi_201702_15_2_clipped.tif\n",
      "0.6068213683872434 C:\\Users\\Mukesh_2\\Downloads\\Clipped_NDVI/awifs_ndvi_201703_15_1_clipped.tif\n",
      "0.6890803112617432 C:\\Users\\Mukesh_2\\Downloads\\Clipped_NDVI/awifs_ndvi_201703_15_2_clipped.tif\n",
      "0.696023028110345 C:\\Users\\Mukesh_2\\Downloads\\Clipped_NDVI/awifs_ndvi_201704_15_1_clipped.tif\n",
      "0.6653192186172195 C:\\Users\\Mukesh_2\\Downloads\\Clipped_NDVI/awifs_ndvi_201704_15_2_clipped.tif\n",
      "0.6486582860279992 C:\\Users\\Mukesh_2\\Downloads\\Clipped_NDVI/awifs_ndvi_201705_15_1_clipped.tif\n",
      "0.6956527724857369 C:\\Users\\Mukesh_2\\Downloads\\Clipped_NDVI/awifs_ndvi_201705_15_2_clipped.tif\n",
      "0.7701390363320618 C:\\Users\\Mukesh_2\\Downloads\\Clipped_NDVI/awifs_ndvi_201706_15_1_clipped.tif\n",
      "0.8111291463565504 C:\\Users\\Mukesh_2\\Downloads\\Clipped_NDVI/awifs_ndvi_201706_15_2_clipped.tif\n",
      "0.8802681395243726 C:\\Users\\Mukesh_2\\Downloads\\Clipped_NDVI/awifs_ndvi_201707_15_1_clipped.tif\n",
      "0.9361130395287187 C:\\Users\\Mukesh_2\\Downloads\\Clipped_NDVI/awifs_ndvi_201707_15_2_clipped.tif\n",
      "0.8968226580494213 C:\\Users\\Mukesh_2\\Downloads\\Clipped_NDVI/awifs_ndvi_201708_15_1_clipped.tif\n",
      "0.8903627647890195 C:\\Users\\Mukesh_2\\Downloads\\Clipped_NDVI/awifs_ndvi_201708_15_2_clipped.tif\n",
      "0.8011703874025873 C:\\Users\\Mukesh_2\\Downloads\\Clipped_NDVI/awifs_ndvi_201709_15_1_clipped.tif\n",
      "0.810843624428869 C:\\Users\\Mukesh_2\\Downloads\\Clipped_NDVI/awifs_ndvi_201709_15_2_clipped.tif\n",
      "0.7495960194274948 C:\\Users\\Mukesh_2\\Downloads\\Clipped_NDVI/awifs_ndvi_201710_15_1_clipped.tif\n",
      "0.7322653409472377 C:\\Users\\Mukesh_2\\Downloads\\Clipped_NDVI/awifs_ndvi_201710_15_2_clipped.tif\n",
      "0.7224045578417009 C:\\Users\\Mukesh_2\\Downloads\\Clipped_NDVI/awifs_ndvi_201711_15_1_clipped.tif\n",
      "0.67413783367483 C:\\Users\\Mukesh_2\\Downloads\\Clipped_NDVI/awifs_ndvi_201711_15_2_clipped.tif\n",
      "0.6043044755414593 C:\\Users\\Mukesh_2\\Downloads\\Clipped_NDVI/awifs_ndvi_201712_15_1_clipped.tif\n",
      "0.5448094114355595 C:\\Users\\Mukesh_2\\Downloads\\Clipped_NDVI/awifs_ndvi_201712_15_2_clipped.tif\n",
      "0.2672879829388439 C:\\Users\\Mukesh_2\\Downloads\\Clipped_NDVI/awifs_ndvi_201801_15_1_clipped.tif\n",
      "0.3224722513289857 C:\\Users\\Mukesh_2\\Downloads\\Clipped_NDVI/awifs_ndvi_201801_15_2_clipped.tif\n",
      "0.46448627371876783 C:\\Users\\Mukesh_2\\Downloads\\Clipped_NDVI/awifs_ndvi_201802_15_1_clipped.tif\n",
      "0.5311117494636344 C:\\Users\\Mukesh_2\\Downloads\\Clipped_NDVI/awifs_ndvi_201802_15_2_clipped.tif\n",
      "0.7115369330118024 C:\\Users\\Mukesh_2\\Downloads\\Clipped_NDVI/awifs_ndvi_201803_15_1_clipped.tif\n",
      "0.6991264717603307 C:\\Users\\Mukesh_2\\Downloads\\Clipped_NDVI/awifs_ndvi_201803_15_2_clipped.tif\n",
      "0.6871827445299301 C:\\Users\\Mukesh_2\\Downloads\\Clipped_NDVI/awifs_ndvi_201804_15_1_clipped.tif\n",
      "0.6725015779160244 C:\\Users\\Mukesh_2\\Downloads\\Clipped_NDVI/awifs_ndvi_201804_15_2_clipped.tif\n",
      "0.7052307475386752 C:\\Users\\Mukesh_2\\Downloads\\Clipped_NDVI/awifs_ndvi_201805_15_1_clipped.tif\n",
      "0.733079252611475 C:\\Users\\Mukesh_2\\Downloads\\Clipped_NDVI/awifs_ndvi_201805_15_2_clipped.tif\n",
      "0.8766553231206378 C:\\Users\\Mukesh_2\\Downloads\\Clipped_NDVI/awifs_ndvi_201806_15_1_clipped.tif\n",
      "0.8804964578515708 C:\\Users\\Mukesh_2\\Downloads\\Clipped_NDVI/awifs_ndvi_201806_15_2_clipped.tif\n",
      "0.8973157750602836 C:\\Users\\Mukesh_2\\Downloads\\Clipped_NDVI/awifs_ndvi_201807_15_1_clipped.tif\n",
      "0.8916609803263528 C:\\Users\\Mukesh_2\\Downloads\\Clipped_NDVI/awifs_ndvi_201807_15_2_clipped.tif\n",
      "0.9472542189158485 C:\\Users\\Mukesh_2\\Downloads\\Clipped_NDVI/awifs_ndvi_201808_15_1_clipped.tif\n",
      "0.8295343985332092 C:\\Users\\Mukesh_2\\Downloads\\Clipped_NDVI/awifs_ndvi_201808_15_2_clipped.tif\n",
      "0.7195935925631991 C:\\Users\\Mukesh_2\\Downloads\\Clipped_NDVI/awifs_ndvi_201809_15_1_clipped.tif\n",
      "0.6580447474877238 C:\\Users\\Mukesh_2\\Downloads\\Clipped_NDVI/awifs_ndvi_201809_15_2_clipped.tif\n",
      "0.6555762561491248 C:\\Users\\Mukesh_2\\Downloads\\Clipped_NDVI/awifs_ndvi_201810_15_1_clipped.tif\n",
      "0.7200295817344299 C:\\Users\\Mukesh_2\\Downloads\\Clipped_NDVI/awifs_ndvi_201810_15_2_clipped.tif\n",
      "0.7128984127870649 C:\\Users\\Mukesh_2\\Downloads\\Clipped_NDVI/awifs_ndvi_201811_15_1_clipped.tif\n",
      "0.6715330411621239 C:\\Users\\Mukesh_2\\Downloads\\Clipped_NDVI/awifs_ndvi_201811_15_2_clipped.tif\n",
      "0.5827277692068942 C:\\Users\\Mukesh_2\\Downloads\\Clipped_NDVI/awifs_ndvi_201812_15_1_clipped.tif\n"
     ]
    }
   ],
   "source": [
    "for i in range(len(image_files)-1):\n",
    "        print(ssim_array[i],image_files[i])"
   ]
  },
  {
   "cell_type": "code",
   "execution_count": 6,
   "metadata": {},
   "outputs": [
    {
     "data": {
      "text/plain": [
       "<Figure size 640x480 with 1 Axes>"
      ]
     },
     "metadata": {},
     "output_type": "display_data"
    }
   ],
   "source": [
    "import numpy as np\n",
    "import matplotlib.pyplot as plt\n",
    "\n",
    "# x = np.arange(0, 5, 0.1)\n",
    "# y = np.sin(x)\n",
    "plt.plot(file_names,ssim_array)\n",
    "plt.show()"
   ]
  },
  {
   "cell_type": "code",
   "execution_count": 7,
   "metadata": {},
   "outputs": [
    {
     "data": {
      "text/plain": [
       "[<matplotlib.lines.Line2D at 0x15300101128>]"
      ]
     },
     "execution_count": 7,
     "metadata": {},
     "output_type": "execute_result"
    },
    {
     "data": {
      "image/png": "[encoded data removed]",
      "text/plain": [
       "<Figure size 432x288 with 1 Axes>"
      ]
     },
     "metadata": {
      "needs_background": "light"
     },
     "output_type": "display_data"
    }
   ],
   "source": [
    "plt.plot(file_names,ssim_array)"
   ]
  },
  {
   "cell_type": "code",
   "execution_count": 17,
   "metadata": {},
   "outputs": [
    {
     "name": "stdout",
     "output_type": "stream",
     "text": [
      "(array([ 6, 13, 17, 28, 36, 38, 43], dtype=int64), {})\n"
     ]
    }
   ],
   "source": [
    "peaks=scipy.signal.find_peaks(ssim_array)\n",
    "print(peaks)"
   ]
  },
  {
   "cell_type": "code",
   "execution_count": 19,
   "metadata": {},
   "outputs": [],
   "source": [
    "prominance,left_bases,right_bases=scipy.signal.peak_prominences(ssim_array, peaks[0].tolist())"
   ]
  },
  {
   "cell_type": "code",
   "execution_count": 20,
   "metadata": {},
   "outputs": [
    {
     "name": "stdout",
     "output_type": "stream",
     "text": [
      "[0.04736474 0.51258006 0.00967324 0.03903536 0.00565479 0.36452645\n",
      " 0.06445333]\n"
     ]
    }
   ],
   "source": [
    "print(prominance)"
   ]
  },
  {
   "cell_type": "code",
   "execution_count": 25,
   "metadata": {},
   "outputs": [],
   "source": [
    "new_peaks=[]\n",
    "for i in range(len(peaks[0])):\n",
    "    if(prominance[i]>0.1):\n",
    "        new_peaks.append(peaks[0][i])"
   ]
  },
  {
   "cell_type": "code",
   "execution_count": 26,
   "metadata": {},
   "outputs": [
    {
     "name": "stdout",
     "output_type": "stream",
     "text": [
      "[13, 38]\n"
     ]
    }
   ],
   "source": [
    "print(new_peaks)"
   ]
  },
  {
   "cell_type": "code",
   "execution_count": 30,
   "metadata": {},
   "outputs": [
    {
     "name": "stdout",
     "output_type": "stream",
     "text": [
      "C:\\Users\\Mukesh_2\\Downloads\\Clipped_NDVI/awifs_ndvi_201707_15_2_clipped.tif\n",
      "C:\\Users\\Mukesh_2\\Downloads\\Clipped_NDVI/awifs_ndvi_201808_15_1_clipped.tif\n"
     ]
    }
   ],
   "source": [
    "for i in range(len(new_peaks)):\n",
    "    print(image_files[new_peaks[i]])"
   ]
  },
  {
   "cell_type": "code",
   "execution_count": null,
   "metadata": {},
   "outputs": [],
   "source": []
  }
 ],
 "metadata": {
  "kernelspec": {
   "display_name": "Python 3",
   "language": "python",
   "name": "python3"
  },
  "language_info": {
   "codemirror_mode": {
    "name": "ipython",
    "version": 3
   },
   "file_extension": ".py",
   "mimetype": "text/x-python",
   "name": "python",
   "nbconvert_exporter": "python",
   "pygments_lexer": "ipython3",
   "version": "3.7.1"
  }
 },
 "nbformat": 4,
 "nbformat_minor": 2
}
