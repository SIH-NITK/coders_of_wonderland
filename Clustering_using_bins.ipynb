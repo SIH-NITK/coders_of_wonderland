{
 "cells": [
  {
   "cell_type": "code",
   "execution_count": 18,
   "metadata": {},
   "outputs": [],
   "source": [
    "import cv2\n",
    "import os\n",
    "import numpy as np\n",
    "from matplotlib import pyplot as plt\n",
    "from sklearn.cluster import KMeans\n"
   ]
  },
  {
   "cell_type": "code",
   "execution_count": 2,
   "metadata": {},
   "outputs": [],
   "source": [
    "path='Clipped_NDVI/'\n",
    "files=os.listdir(path)\n",
    "data=[]\n",
    "for i in range(len(files)):\n",
    "    img=cv2.imread(path+files[i],0)\n",
    "    data.append(img)"
   ]
  },
  {
   "cell_type": "code",
   "execution_count": 3,
   "metadata": {},
   "outputs": [
    {
     "name": "stdout",
     "output_type": "stream",
     "text": [
      "(48, 2135, 2118)\n"
     ]
    }
   ],
   "source": [
    "data=np.array(data)\n",
    "print(data.shape)"
   ]
  },
  {
   "cell_type": "code",
   "execution_count": 7,
   "metadata": {},
   "outputs": [
    {
     "data": {
      "text/plain": [
       "(array([ 137827, 2263593, 1943007,  129908,   47595], dtype=int64),\n",
       " array([  0.,  51., 102., 153., 204., 255.]))"
      ]
     },
     "execution_count": 7,
     "metadata": {},
     "output_type": "execute_result"
    }
   ],
   "source": [
    "np.histogram(data[0],bins=5)\n"
   ]
  },
  {
   "cell_type": "code",
   "execution_count": 8,
   "metadata": {},
   "outputs": [
    {
     "data": {
      "text/plain": [
       "(array([ 241377, 2154059, 1929037,  149862,   47595], dtype=int64),\n",
       " array([  0.,  51., 102., 153., 204., 255.]))"
      ]
     },
     "execution_count": 8,
     "metadata": {},
     "output_type": "execute_result"
    }
   ],
   "source": [
    "np.histogram(data[1],bins=5)\n"
   ]
  },
  {
   "cell_type": "code",
   "execution_count": 9,
   "metadata": {},
   "outputs": [
    {
     "data": {
      "text/plain": [
       "(array([ 604171, 3756460,  113672,      32,   47595], dtype=int64),\n",
       " array([  0.,  51., 102., 153., 204., 255.]))"
      ]
     },
     "execution_count": 9,
     "metadata": {},
     "output_type": "execute_result"
    }
   ],
   "source": [
    "np.histogram(data[5],bins=5)\n"
   ]
  },
  {
   "cell_type": "code",
   "execution_count": 10,
   "metadata": {},
   "outputs": [
    {
     "data": {
      "text/plain": [
       "(array([2362916, 1979956,  129204,    2259,   47595], dtype=int64),\n",
       " array([  0.,  51., 102., 153., 204., 255.]))"
      ]
     },
     "execution_count": 10,
     "metadata": {},
     "output_type": "execute_result"
    }
   ],
   "source": [
    "np.histogram(data[11],bins=5)\n"
   ]
  },
  {
   "cell_type": "code",
   "execution_count": 11,
   "metadata": {},
   "outputs": [],
   "source": [
    "a = np.histogram(data[11],bins=5)\n"
   ]
  },
  {
   "cell_type": "code",
   "execution_count": 12,
   "metadata": {},
   "outputs": [
    {
     "data": {
      "text/plain": [
       "(array([2362916, 1979956,  129204,    2259,   47595], dtype=int64),\n",
       " array([  0.,  51., 102., 153., 204., 255.]))"
      ]
     },
     "execution_count": 12,
     "metadata": {},
     "output_type": "execute_result"
    }
   ],
   "source": [
    "a"
   ]
  },
  {
   "cell_type": "code",
   "execution_count": 13,
   "metadata": {},
   "outputs": [
    {
     "data": {
      "text/plain": [
       "array([2362916, 1979956,  129204,    2259,   47595], dtype=int64)"
      ]
     },
     "execution_count": 13,
     "metadata": {},
     "output_type": "execute_result"
    }
   ],
   "source": [
    "a[0]"
   ]
  },
  {
   "cell_type": "code",
   "execution_count": 14,
   "metadata": {},
   "outputs": [
    {
     "data": {
      "text/plain": [
       "2362916"
      ]
     },
     "execution_count": 14,
     "metadata": {},
     "output_type": "execute_result"
    }
   ],
   "source": [
    "a[0][0]"
   ]
  },
  {
   "cell_type": "code",
   "execution_count": 15,
   "metadata": {},
   "outputs": [],
   "source": [
    "var = []\n",
    "for i in range(48):\n",
    "    a = np.histogram(data[i],bins=5)\n",
    "    var.append(a)"
   ]
  },
  {
   "cell_type": "code",
   "execution_count": 16,
   "metadata": {},
   "outputs": [
    {
     "data": {
      "text/plain": [
       "[(array([ 137827, 2263593, 1943007,  129908,   47595], dtype=int64),\n",
       "  array([  0.,  51., 102., 153., 204., 255.])),\n",
       " (array([ 241377, 2154059, 1929037,  149862,   47595], dtype=int64),\n",
       "  array([  0.,  51., 102., 153., 204., 255.])),\n",
       " (array([ 114125, 1996427, 2250029,  113754,   47595], dtype=int64),\n",
       "  array([  0.,  51., 102., 153., 204., 255.])),\n",
       " (array([ 286833, 2698489, 1466851,   22162,   47595], dtype=int64),\n",
       "  array([  0.,  51., 102., 153., 204., 255.])),\n",
       " (array([ 275473, 3425846,  771096,    1920,   47595], dtype=int64),\n",
       "  array([  0.,  51., 102., 153., 204., 255.])),\n",
       " (array([ 604171, 3756460,  113672,      32,   47595], dtype=int64),\n",
       "  array([  0.,  51., 102., 153., 204., 255.])),\n",
       " (array([ 645896, 3522597,  304923,     919,   47595], dtype=int64),\n",
       "  array([  0.,  51., 102., 153., 204., 255.])),\n",
       " (array([ 460703, 3249132,  715956,   48544,   47595], dtype=int64),\n",
       "  array([  0.,  51., 102., 153., 204., 255.])),\n",
       " (array([ 845771, 2884118,  674208,   70238,   47595], dtype=int64),\n",
       "  array([  0.,  51., 102., 153., 204., 255.])),\n",
       " (array([1181457, 2768361,  511285,   13232,   47595], dtype=int64),\n",
       "  array([  0.,  51., 102., 153., 204., 255.])),\n",
       " (array([1273332, 2858302,  330157,   12544,   47595], dtype=int64),\n",
       "  array([  0.,  51., 102., 153., 204., 255.])),\n",
       " (array([2362916, 1979956,  129204,    2259,   47595], dtype=int64),\n",
       "  array([  0.,  51., 102., 153., 204., 255.])),\n",
       " (array([2002314, 2325044,  146955,      22,   47595], dtype=int64),\n",
       "  array([  2. ,  52.6, 103.2, 153.8, 204.4, 255. ])),\n",
       " (array([4224483,  233375,   16469,       8,   47595], dtype=int64),\n",
       "  array([  0.,  51., 102., 153., 204., 255.])),\n",
       " (array([3011283, 1423016,   40036,       0,   47595], dtype=int64),\n",
       "  array([  0.,  51., 102., 153., 204., 255.])),\n",
       " (array([ 860950, 2469151, 1058962,   85272,   47595], dtype=int64),\n",
       "  array([  4. ,  54.2, 104.4, 154.6, 204.8, 255. ])),\n",
       " (array([ 130372, 1537834, 2700971,  105158,   47595], dtype=int64),\n",
       "  array([  0.,  51., 102., 153., 204., 255.])),\n",
       " (array([ 161702, 1062335, 2754952,  495345,   47596], dtype=int64),\n",
       "  array([  1. ,  51.8, 102.6, 153.4, 204.2, 255. ])),\n",
       " (array([ 100351, 1263573, 2867809,  242600,   47597], dtype=int64),\n",
       "  array([  0.,  51., 102., 153., 204., 255.])),\n",
       " (array([ 116456, 1797721, 2413359,  146799,   47595], dtype=int64),\n",
       "  array([  0.,  51., 102., 153., 204., 255.])),\n",
       " (array([ 176672, 2453569, 1781173,   62921,   47595], dtype=int64),\n",
       "  array([  0.,  51., 102., 153., 204., 255.])),\n",
       " (array([ 136508, 2166292, 1976998,  194536,   47596], dtype=int64),\n",
       "  array([  0.,  51., 102., 153., 204., 255.])),\n",
       " (array([  60915, 2173592, 2133483,  106345,   47595], dtype=int64),\n",
       "  array([  0.,  51., 102., 153., 204., 255.])),\n",
       " (array([  78042,  846142, 2224487, 1305270,   67989], dtype=int64),\n",
       "  array([  0.,  51., 102., 153., 204., 255.])),\n",
       " (array([ 189619, 1888562, 2240495,  155659,   47595], dtype=int64),\n",
       "  array([  0.,  51., 102., 153., 204., 255.])),\n",
       " (array([ 158225, 1489472, 2436411,  390227,   47595], dtype=int64),\n",
       "  array([  0.,  51., 102., 153., 204., 255.])),\n",
       " (array([ 117556, 1600597, 2548508,  207674,   47595], dtype=int64),\n",
       "  array([  0.,  51., 102., 153., 204., 255.])),\n",
       " (array([ 277287, 3150374, 1044619,    2055,   47595], dtype=int64),\n",
       "  array([  0.,  51., 102., 153., 204., 255.])),\n",
       " (array([ 428582, 3604002,  441683,      68,   47595], dtype=int64),\n",
       "  array([  0.,  51., 102., 153., 204., 255.])),\n",
       " (array([ 305572, 3870264,  298222,     277,   47595], dtype=int64),\n",
       "  array([  0.,  51., 102., 153., 204., 255.])),\n",
       " (array([ 799160, 3448364,  226293,     518,   47595], dtype=int64),\n",
       "  array([  0.,  51., 102., 153., 204., 255.])),\n",
       " (array([ 382072, 2782416, 1117463,  192374,   47605], dtype=int64),\n",
       "  array([  0.,  51., 102., 153., 204., 255.])),\n",
       " (array([ 802685, 3026844,  604801,   40005,   47595], dtype=int64),\n",
       "  array([  0.,  51., 102., 153., 204., 255.])),\n",
       " (array([1981708, 2246149,  245181,    1297,   47595], dtype=int64),\n",
       "  array([  0.,  51., 102., 153., 204., 255.])),\n",
       " (array([2085244, 2326245,   62846,       0,   47595], dtype=int64),\n",
       "  array([  0.,  51., 102., 153., 204., 255.])),\n",
       " (array([4113000,  361278,      57,       0,   47595], dtype=int64),\n",
       "  array([  2. ,  52.6, 103.2, 153.8, 204.4, 255. ])),\n",
       " (array([3332985, 1130298,   11052,       0,   47595], dtype=int64),\n",
       "  array([  0.,  51., 102., 153., 204., 255.])),\n",
       " (array([3674928,  719318,   80089,       0,   47595], dtype=int64),\n",
       "  array([  0.,  51., 102., 153., 204., 255.])),\n",
       " (array([3400505, 1042400,   31430,       0,   47595], dtype=int64),\n",
       "  array([  0.,  51., 102., 153., 204., 255.])),\n",
       " (array([4406242,   65911,    2182,       0,   47595], dtype=int64),\n",
       "  array([  0.,  51., 102., 153., 204., 255.])),\n",
       " (array([1171952, 2025828, 1259389,   17166,   47595], dtype=int64),\n",
       "  array([  1. ,  51.8, 102.6, 153.4, 204.2, 255. ])),\n",
       " (array([ 132773, 1230505, 2862435,  248622,   47595], dtype=int64),\n",
       "  array([  0.,  51., 102., 153., 204., 255.])),\n",
       " (array([ 140858, 1479864, 2722313,  131286,   47609], dtype=int64),\n",
       "  array([  0.,  51., 102., 153., 204., 255.])),\n",
       " (array([ 172315, 2908290, 1392934,     796,   47595], dtype=int64),\n",
       "  array([  0.,  51., 102., 153., 204., 255.])),\n",
       " (array([ 523194, 3358558,  592484,      99,   47595], dtype=int64),\n",
       "  array([  0.,  51., 102., 153., 204., 255.])),\n",
       " (array([ 281202, 3229112,  960255,    3766,   47595], dtype=int64),\n",
       "  array([  0.,  51., 102., 153., 204., 255.])),\n",
       " (array([ 273898, 3281654,  912453,    6330,   47595], dtype=int64),\n",
       "  array([  0.,  51., 102., 153., 204., 255.])),\n",
       " (array([ 216884, 2441852, 1716131,   99468,   47595], dtype=int64),\n",
       "  array([  0.,  51., 102., 153., 204., 255.]))]"
      ]
     },
     "execution_count": 16,
     "metadata": {},
     "output_type": "execute_result"
    }
   ],
   "source": [
    "var\n"
   ]
  },
  {
   "cell_type": "code",
   "execution_count": 33,
   "metadata": {},
   "outputs": [],
   "source": [
    "var1 = []\n",
    "for i in range(48):\n",
    "    var1.append((list(var[i][0])))\n",
    "    "
   ]
  },
  {
   "cell_type": "code",
   "execution_count": 34,
   "metadata": {},
   "outputs": [],
   "source": [
    "clusters = KMeans(n_clusters=2, random_state=0)"
   ]
  },
  {
   "cell_type": "code",
   "execution_count": 35,
   "metadata": {},
   "outputs": [],
   "source": [
    "a = clusters.fit(var1)"
   ]
  },
  {
   "cell_type": "code",
   "execution_count": 36,
   "metadata": {},
   "outputs": [
    {
     "data": {
      "text/plain": [
       "[[137827, 2263593, 1943007, 129908, 47595],\n",
       " [241377, 2154059, 1929037, 149862, 47595],\n",
       " [114125, 1996427, 2250029, 113754, 47595],\n",
       " [286833, 2698489, 1466851, 22162, 47595],\n",
       " [275473, 3425846, 771096, 1920, 47595],\n",
       " [604171, 3756460, 113672, 32, 47595],\n",
       " [645896, 3522597, 304923, 919, 47595],\n",
       " [460703, 3249132, 715956, 48544, 47595],\n",
       " [845771, 2884118, 674208, 70238, 47595],\n",
       " [1181457, 2768361, 511285, 13232, 47595],\n",
       " [1273332, 2858302, 330157, 12544, 47595],\n",
       " [2362916, 1979956, 129204, 2259, 47595],\n",
       " [2002314, 2325044, 146955, 22, 47595],\n",
       " [4224483, 233375, 16469, 8, 47595],\n",
       " [3011283, 1423016, 40036, 0, 47595],\n",
       " [860950, 2469151, 1058962, 85272, 47595],\n",
       " [130372, 1537834, 2700971, 105158, 47595],\n",
       " [161702, 1062335, 2754952, 495345, 47596],\n",
       " [100351, 1263573, 2867809, 242600, 47597],\n",
       " [116456, 1797721, 2413359, 146799, 47595],\n",
       " [176672, 2453569, 1781173, 62921, 47595],\n",
       " [136508, 2166292, 1976998, 194536, 47596],\n",
       " [60915, 2173592, 2133483, 106345, 47595],\n",
       " [78042, 846142, 2224487, 1305270, 67989],\n",
       " [189619, 1888562, 2240495, 155659, 47595],\n",
       " [158225, 1489472, 2436411, 390227, 47595],\n",
       " [117556, 1600597, 2548508, 207674, 47595],\n",
       " [277287, 3150374, 1044619, 2055, 47595],\n",
       " [428582, 3604002, 441683, 68, 47595],\n",
       " [305572, 3870264, 298222, 277, 47595],\n",
       " [799160, 3448364, 226293, 518, 47595],\n",
       " [382072, 2782416, 1117463, 192374, 47605],\n",
       " [802685, 3026844, 604801, 40005, 47595],\n",
       " [1981708, 2246149, 245181, 1297, 47595],\n",
       " [2085244, 2326245, 62846, 0, 47595],\n",
       " [4113000, 361278, 57, 0, 47595],\n",
       " [3332985, 1130298, 11052, 0, 47595],\n",
       " [3674928, 719318, 80089, 0, 47595],\n",
       " [3400505, 1042400, 31430, 0, 47595],\n",
       " [4406242, 65911, 2182, 0, 47595],\n",
       " [1171952, 2025828, 1259389, 17166, 47595],\n",
       " [132773, 1230505, 2862435, 248622, 47595],\n",
       " [140858, 1479864, 2722313, 131286, 47609],\n",
       " [172315, 2908290, 1392934, 796, 47595],\n",
       " [523194, 3358558, 592484, 99, 47595],\n",
       " [281202, 3229112, 960255, 3766, 47595],\n",
       " [273898, 3281654, 912453, 6330, 47595],\n",
       " [216884, 2441852, 1716131, 99468, 47595]]"
      ]
     },
     "execution_count": 36,
     "metadata": {},
     "output_type": "execute_result"
    }
   ],
   "source": [
    "var1"
   ]
  },
  {
   "cell_type": "code",
   "execution_count": 37,
   "metadata": {},
   "outputs": [
    {
     "data": {
      "text/plain": [
       "KMeans(algorithm='auto', copy_x=True, init='k-means++', max_iter=300,\n",
       "    n_clusters=2, n_init=10, n_jobs=1, precompute_distances='auto',\n",
       "    random_state=0, tol=0.0001, verbose=0)"
      ]
     },
     "execution_count": 37,
     "metadata": {},
     "output_type": "execute_result"
    }
   ],
   "source": [
    "a"
   ]
  },
  {
   "cell_type": "code",
   "execution_count": 38,
   "metadata": {},
   "outputs": [
    {
     "data": {
      "text/plain": [
       "array([0, 0, 0, 0, 0, 0, 0, 0, 0, 0, 0, 1, 1, 1, 1, 0, 0, 0, 0, 0, 0, 0,\n",
       "       0, 0, 0, 0, 0, 0, 0, 0, 0, 0, 0, 1, 1, 1, 1, 1, 1, 1, 0, 0, 0, 0,\n",
       "       0, 0, 0, 0])"
      ]
     },
     "execution_count": 38,
     "metadata": {},
     "output_type": "execute_result"
    }
   ],
   "source": [
    "a.labels_"
   ]
  },
  {
   "cell_type": "code",
   "execution_count": 40,
   "metadata": {},
   "outputs": [],
   "source": [
    "clusters = KMeans(n_clusters=2, random_state=0,algorithm=\"elkan\")"
   ]
  },
  {
   "cell_type": "code",
   "execution_count": 41,
   "metadata": {},
   "outputs": [],
   "source": [
    "b = clusters.fit(var1)"
   ]
  },
  {
   "cell_type": "code",
   "execution_count": 42,
   "metadata": {},
   "outputs": [
    {
     "data": {
      "text/plain": [
       "array([0, 0, 0, 0, 0, 0, 0, 0, 0, 0, 0, 1, 1, 1, 1, 0, 0, 0, 0, 0, 0, 0,\n",
       "       0, 0, 0, 0, 0, 0, 0, 0, 0, 0, 0, 1, 1, 1, 1, 1, 1, 1, 0, 0, 0, 0,\n",
       "       0, 0, 0, 0])"
      ]
     },
     "execution_count": 42,
     "metadata": {},
     "output_type": "execute_result"
    }
   ],
   "source": [
    "b.labels_"
   ]
  },
  {
   "cell_type": "code",
   "execution_count": 43,
   "metadata": {},
   "outputs": [],
   "source": [
    "clusters = KMeans(n_clusters=2, random_state=0,tol=0.000001)"
   ]
  },
  {
   "cell_type": "code",
   "execution_count": 44,
   "metadata": {},
   "outputs": [],
   "source": [
    "c = clusters.fit(var1)"
   ]
  },
  {
   "cell_type": "code",
   "execution_count": 45,
   "metadata": {},
   "outputs": [
    {
     "data": {
      "text/plain": [
       "array([0, 0, 0, 0, 0, 0, 0, 0, 0, 0, 0, 1, 1, 1, 1, 0, 0, 0, 0, 0, 0, 0,\n",
       "       0, 0, 0, 0, 0, 0, 0, 0, 0, 0, 0, 1, 1, 1, 1, 1, 1, 1, 0, 0, 0, 0,\n",
       "       0, 0, 0, 0])"
      ]
     },
     "execution_count": 45,
     "metadata": {},
     "output_type": "execute_result"
    }
   ],
   "source": [
    "b.labels_"
   ]
  },
  {
   "cell_type": "code",
   "execution_count": null,
   "metadata": {},
   "outputs": [],
   "source": []
  }
 ],
 "metadata": {
  "kernelspec": {
   "display_name": "Python 3",
   "language": "python",
   "name": "python3"
  },
  "language_info": {
   "codemirror_mode": {
    "name": "ipython",
    "version": 3
   },
   "file_extension": ".py",
   "mimetype": "text/x-python",
   "name": "python",
   "nbconvert_exporter": "python",
   "pygments_lexer": "ipython3",
   "version": "3.6.4"
  }
 },
 "nbformat": 4,
 "nbformat_minor": 2
}
